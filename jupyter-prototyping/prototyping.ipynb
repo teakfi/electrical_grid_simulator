{
 "cells": [
  {
   "cell_type": "code",
   "execution_count": 26,
   "metadata": {},
   "outputs": [],
   "source": [
    "import random\n",
    "import simpy\n",
    "import itertools"
   ]
  },
  {
   "cell_type": "code",
   "execution_count": null,
   "metadata": {},
   "outputs": [],
   "source": []
  },
  {
   "cell_type": "code",
   "execution_count": 186,
   "metadata": {},
   "outputs": [],
   "source": [
    "MIN_PRIORITY = 0\n",
    "MAX_PRIORITY = 100\n",
    "\n",
    "class PowerPlant(object):\n",
    "    def __init__(self, env, name, priority, min_production, max_production, initial_production):\n",
    "        self.env = env\n",
    "        self.name = name\n",
    "        self.max_production = max_production\n",
    "        self.min_production = min_production\n",
    "        self.previous_production = initial_production\n",
    "        self.next_min = min_production\n",
    "        self.next_max = max_production\n",
    "        if priority < MIN_PRIORITY:\n",
    "            priority=MIN_PRIORITY\n",
    "        elif priority > MAX_PRIORITY:\n",
    "            priority=MAX_PRIORITY\n",
    "        self.priority = priority\n",
    "\n",
    "            \n",
    "    def print_name(self):\n",
    "        print(self.name)\n",
    "        \n",
    "    def produce(self, area, production):\n",
    "        self.previous_production = production\n",
    "        print('Power plant ' + self.name + ' produced ' + str(production) + ' of energy')  \n",
    "        if production > 0:\n",
    "            yield area.demand.get(production)\n",
    "        \n",
    "    def give_next_min_production(self):\n",
    "        return self.next_min\n",
    "    \n",
    "    def give_next_max_production(self):\n",
    "        return self.next_max"
   ]
  },
  {
   "cell_type": "code",
   "execution_count": 189,
   "metadata": {},
   "outputs": [],
   "source": [
    "class ElectricityUser(object):\n",
    "    def __init__(self, env, name, consumption):\n",
    "        self.env = env\n",
    "        self.name = name\n",
    "        self.consumption = consumption\n",
    "        \n",
    "    def print_name(self):\n",
    "        print(self.name)\n",
    "        \n",
    "    def consume(self,area):\n",
    "        if self.consumption > 0:\n",
    "            yield area.demand.put(self.consumption)"
   ]
  },
  {
   "cell_type": "code",
   "execution_count": 190,
   "metadata": {},
   "outputs": [],
   "source": [
    "class Area(object):\n",
    "    def __init__(self, env, name):\n",
    "        self.env = env\n",
    "        self.name = name\n",
    "        self.users = []\n",
    "        self.demand = simpy.Container(env)\n",
    "        self.providers = []\n",
    "    \n",
    "        \n",
    "    def add_electricity_user(self, name,cap):\n",
    "        factory = ElectricityUser(env,name,cap)\n",
    "        self.users.append(factory)\n",
    "        \n",
    "    def list_electricity_users(self):\n",
    "        for user in self.users:\n",
    "            print(user.name)\n",
    "\n",
    "    def add_electricity_provider(self, name,  priority, min_production, max_production, initial_production):\n",
    "        power_station = PowerPlant(env,name,  priority, min_production, max_production, initial_production)\n",
    "        self.providers.append(power_station)\n",
    "        \n",
    "    def list_electricity_providers(self):\n",
    "        for provider in self.providers:\n",
    "            print(provider.name)\n",
    "            \n",
    "    def sort_electricity_providers(self):\n",
    "        random.shuffle(self.providers)\n",
    "        self.providers = sorted(self.providers, key=lambda provider: provider.priority)\n",
    "            \n",
    "    def show_demand(self):\n",
    "        print(self.demand.level)"
   ]
  },
  {
   "cell_type": "code",
   "execution_count": null,
   "metadata": {},
   "outputs": [],
   "source": []
  },
  {
   "cell_type": "code",
   "execution_count": 207,
   "metadata": {},
   "outputs": [
    {
     "name": "stdout",
     "output_type": "stream",
     "text": [
      "tehdas1\n",
      "priority4a\n",
      "priority1\n",
      "priority4b\n"
     ]
    }
   ],
   "source": [
    "env = simpy.Environment()\n",
    "alue = Area(env, 'alue')\n",
    "alue.add_electricity_user('tehdas1',140)\n",
    "alue.list_electricity_users()\n",
    "alue.add_electricity_provider('priority4a',4,0,100,50)\n",
    "alue.add_electricity_provider('priority1',1,0,100,50)\n",
    "alue.add_electricity_provider('priority4b',4,0,100,50)\n",
    "alue.list_electricity_providers()"
   ]
  },
  {
   "cell_type": "code",
   "execution_count": 208,
   "metadata": {},
   "outputs": [],
   "source": [
    "def produce_in_area(env, area):\n",
    "    area.sort_electricity_providers()\n",
    "    minimum_production = 0\n",
    "    for provider in area.providers:\n",
    "        minimum_production += provider.give_next_min_production()\n",
    "    difference = area.demand.level - minimum_production\n",
    "    if difference <= 0:\n",
    "        for provider in area.providers:\n",
    "            yield env.process(user.produce(area,provider.give_next_min_production()))\n",
    "    else:\n",
    "        for provider in area.providers:\n",
    "            next_max = provider.give_next_max_production()\n",
    "            next_min = provider.give_next_min_production()\n",
    "            delta = next_max-next_min\n",
    "            if delta <= difference:\n",
    "                yield env.process(provider.produce(area, next_max))\n",
    "                difference -= delta\n",
    "            else:\n",
    "                yield env.process(provider.produce(area, next_min+difference))\n",
    "                difference = 0\n",
    "\n",
    "\n",
    "\n",
    "\n",
    "def time_step(env, area):\n",
    "    print(area.name)\n",
    "    for i in itertools.count():\n",
    "        yield env.timeout(1)\n",
    "        for user in area.users:\n",
    "            user.print_name()\n",
    "            yield env.process(user.consume(area))\n",
    "        area.show_demand()\n",
    "        yield env.process(produce_in_area(env,area))\n",
    "                "
   ]
  },
  {
   "cell_type": "code",
   "execution_count": 209,
   "metadata": {
    "tags": []
   },
   "outputs": [
    {
     "data": {
      "text/plain": [
       "<Process(time_step) object at 0x7f453cc63130>"
      ]
     },
     "execution_count": 209,
     "metadata": {},
     "output_type": "execute_result"
    }
   ],
   "source": [
    "env.process(time_step(env,alue))"
   ]
  },
  {
   "cell_type": "code",
   "execution_count": 210,
   "metadata": {},
   "outputs": [
    {
     "name": "stdout",
     "output_type": "stream",
     "text": [
      "alue\n",
      "tehdas1\n",
      "140\n",
      "Power plant priority1 produced 100 of energy\n",
      "Power plant priority4a produced 40 of energy\n",
      "Power plant priority4b produced 0 of energy\n",
      "tehdas1\n",
      "140\n",
      "Power plant priority1 produced 100 of energy\n",
      "Power plant priority4b produced 40 of energy\n",
      "Power plant priority4a produced 0 of energy\n",
      "tehdas1\n",
      "140\n",
      "Power plant priority1 produced 100 of energy\n",
      "Power plant priority4a produced 40 of energy\n",
      "Power plant priority4b produced 0 of energy\n",
      "tehdas1\n",
      "140\n",
      "Power plant priority1 produced 100 of energy\n",
      "Power plant priority4a produced 40 of energy\n",
      "Power plant priority4b produced 0 of energy\n",
      "tehdas1\n",
      "140\n",
      "Power plant priority1 produced 100 of energy\n",
      "Power plant priority4a produced 40 of energy\n",
      "Power plant priority4b produced 0 of energy\n",
      "tehdas1\n",
      "140\n",
      "Power plant priority1 produced 100 of energy\n",
      "Power plant priority4a produced 40 of energy\n",
      "Power plant priority4b produced 0 of energy\n"
     ]
    }
   ],
   "source": [
    "env.run(until=7)"
   ]
  },
  {
   "cell_type": "code",
   "execution_count": 178,
   "metadata": {},
   "outputs": [
    {
     "name": "stdout",
     "output_type": "stream",
     "text": [
      "0\n"
     ]
    }
   ],
   "source": [
    "alue.show_demand()"
   ]
  },
  {
   "cell_type": "code",
   "execution_count": 133,
   "metadata": {},
   "outputs": [
    {
     "name": "stdout",
     "output_type": "stream",
     "text": [
      "tehdas1\n"
     ]
    }
   ],
   "source": [
    "alue.list_electricity_users()"
   ]
  },
  {
   "cell_type": "code",
   "execution_count": 12,
   "metadata": {
    "tags": []
   },
   "outputs": [],
   "source": [
    "SIM_TIME = 20\n",
    "RANDOM_SEED = 13\n",
    "NUM_MACHINES = 2\n",
    "WASHTIME = 2\n",
    "T_INTER = 3"
   ]
  },
  {
   "cell_type": "code",
   "execution_count": 8,
   "metadata": {},
   "outputs": [],
   "source": [
    "class Carwash(object):\n",
    "    def __init__(self, env, num_machines, washtime):\n",
    "        self.env = env\n",
    "        self.machine = simpy.Resource(env, num_machines)\n",
    "        self.washtime = washtime\n",
    "        \n",
    "    def wash(self, car):\n",
    "        yield self.env.timeout(WASHTIME)\n",
    "        print(\"Carwash removed %d%% of %s's dirt.\" %\n",
    "              (random.randint(50,99), car))"
   ]
  },
  {
   "cell_type": "code",
   "execution_count": 9,
   "metadata": {},
   "outputs": [],
   "source": [
    "def car(env, name, cw):\n",
    "    print('%s arrives at the carwas at %.2f.' % (name, env.now))\n",
    "    with cw.machine.request() as request:\n",
    "        yield request\n",
    "        \n",
    "        print('%s enters the carwash at %.2f.' % (name, env.now))\n",
    "        yield env.process(cw.wash(name))\n",
    "        \n",
    "        print('%s leaves the carwash at %.2f.' % (name, env.now))"
   ]
  },
  {
   "cell_type": "code",
   "execution_count": 10,
   "metadata": {},
   "outputs": [],
   "source": [
    "def setup(env, num_machines, washtime, t_inter):\n",
    "    carwash = Carwash(env, num_machines, washtime)\n",
    "    \n",
    "    for i in range(4):\n",
    "        env.process(car(env, 'Car %d' % i, carwash))\n",
    "        \n",
    "    while True:\n",
    "        yield env.timeout(random.randint(t_inter - 2, t_inter + 2))\n",
    "        i += 1\n",
    "        env.process(car(env, 'Car %d' % i, carwash))\n",
    "        "
   ]
  },
  {
   "cell_type": "code",
   "execution_count": 11,
   "metadata": {},
   "outputs": [
    {
     "name": "stdout",
     "output_type": "stream",
     "text": [
      "Carwash\n",
      "Car 0 arrives at the carwas at 0.00.\n",
      "Car 1 arrives at the carwas at 0.00.\n",
      "Car 2 arrives at the carwas at 0.00.\n",
      "Car 3 arrives at the carwas at 0.00.\n",
      "Car 0 enters the carwash at 0.00.\n",
      "Car 1 enters the carwash at 0.00.\n",
      "Carwash removed 68% of Car 0's dirt.\n",
      "Carwash removed 93% of Car 1's dirt.\n",
      "Car 0 leaves the carwash at 2.00.\n",
      "Car 1 leaves the carwash at 2.00.\n",
      "Car 2 enters the carwash at 2.00.\n",
      "Car 3 enters the carwash at 2.00.\n",
      "Car 4 arrives at the carwas at 3.00.\n",
      "Carwash removed 91% of Car 2's dirt.\n",
      "Carwash removed 64% of Car 3's dirt.\n",
      "Car 2 leaves the carwash at 4.00.\n",
      "Car 3 leaves the carwash at 4.00.\n",
      "Car 4 enters the carwash at 4.00.\n",
      "Car 5 arrives at the carwas at 5.00.\n",
      "Car 5 enters the carwash at 5.00.\n",
      "Carwash removed 64% of Car 4's dirt.\n",
      "Car 4 leaves the carwash at 6.00.\n",
      "Car 6 arrives at the carwas at 7.00.\n",
      "Carwash removed 58% of Car 5's dirt.\n",
      "Car 6 enters the carwash at 7.00.\n",
      "Car 5 leaves the carwash at 7.00.\n",
      "Car 7 arrives at the carwas at 9.00.\n",
      "Carwash removed 84% of Car 6's dirt.\n",
      "Car 7 enters the carwash at 9.00.\n",
      "Car 6 leaves the carwash at 9.00.\n",
      "Car 8 arrives at the carwas at 10.00.\n",
      "Car 8 enters the carwash at 10.00.\n",
      "Carwash removed 97% of Car 7's dirt.\n",
      "Car 7 leaves the carwash at 11.00.\n",
      "Car 9 arrives at the carwas at 12.00.\n",
      "Carwash removed 51% of Car 8's dirt.\n",
      "Car 9 enters the carwash at 12.00.\n",
      "Car 8 leaves the carwash at 12.00.\n",
      "Carwash removed 77% of Car 9's dirt.\n",
      "Car 9 leaves the carwash at 14.00.\n",
      "Car 10 arrives at the carwas at 15.00.\n",
      "Car 10 enters the carwash at 15.00.\n",
      "Car 11 arrives at the carwas at 17.00.\n",
      "Carwash removed 50% of Car 10's dirt.\n",
      "Car 11 enters the carwash at 17.00.\n",
      "Car 10 leaves the carwash at 17.00.\n",
      "Carwash removed 67% of Car 11's dirt.\n",
      "Car 11 leaves the carwash at 19.00.\n"
     ]
    }
   ],
   "source": [
    "print('Carwash')\n",
    "random.seed(RANDOM_SEED)\n",
    "\n",
    "env = simpy.Environment()\n",
    "env.process(setup(env, NUM_MACHINES, WASHTIME, T_INTER))\n",
    "\n",
    "env.run(until=SIM_TIME)"
   ]
  },
  {
   "cell_type": "code",
   "execution_count": null,
   "metadata": {},
   "outputs": [],
   "source": []
  }
 ],
 "metadata": {
  "kernelspec": {
   "display_name": "Python 3 (ipykernel)",
   "language": "python",
   "name": "python3"
  },
  "language_info": {
   "codemirror_mode": {
    "name": "ipython",
    "version": 3
   },
   "file_extension": ".py",
   "mimetype": "text/x-python",
   "name": "python",
   "nbconvert_exporter": "python",
   "pygments_lexer": "ipython3",
   "version": "3.10.4"
  }
 },
 "nbformat": 4,
 "nbformat_minor": 4
}
