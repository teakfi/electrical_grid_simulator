{
 "cells": [
  {
   "cell_type": "code",
   "execution_count": 1,
   "id": "8013de1e-bcb2-426a-9f6f-a74e084f8cc4",
   "metadata": {},
   "outputs": [],
   "source": [
    "import simpy\n",
    "from grid_simulator import area"
   ]
  },
  {
   "cell_type": "code",
   "execution_count": 3,
   "id": "f330a0bc-b0ca-426a-9220-73a582b8a08f",
   "metadata": {},
   "outputs": [],
   "source": [
    "from grid_simulator.grid import *"
   ]
  },
  {
   "cell_type": "code",
   "execution_count": 2,
   "id": "95a79838-f052-46fc-961a-ffbe6e863ff9",
   "metadata": {},
   "outputs": [
    {
     "name": "stdout",
     "output_type": "stream",
     "text": [
      "tehdas1\n",
      "priority4a\n",
      "priority1\n",
      "priority4b\n"
     ]
    }
   ],
   "source": [
    "env = simpy.Environment()\n",
    "alue = area.Area(env, 'alue')\n",
    "alue.add_electricity_user('tehdas1',140)\n",
    "alue.list_electricity_users()\n",
    "alue.add_electricity_provider('priority4a',4,0,100,50)\n",
    "alue.add_electricity_provider('priority1',1,0,100,50)\n",
    "alue.add_electricity_provider('priority4b',4,0,100,50)\n",
    "alue.list_electricity_providers()"
   ]
  },
  {
   "cell_type": "code",
   "execution_count": 4,
   "id": "6a86ae6f-ae96-4e83-b8ac-031a5bf7e7b0",
   "metadata": {},
   "outputs": [
    {
     "data": {
      "text/plain": [
       "<Process(time_step) object at 0x7f50e67977f0>"
      ]
     },
     "execution_count": 4,
     "metadata": {},
     "output_type": "execute_result"
    }
   ],
   "source": [
    "env.process(time_step(env,alue))"
   ]
  },
  {
   "cell_type": "code",
   "execution_count": 5,
   "id": "1b4548c6-c0e8-4b69-a459-1984f98ca623",
   "metadata": {},
   "outputs": [
    {
     "name": "stdout",
     "output_type": "stream",
     "text": [
      "alue\n",
      "tehdas1\n",
      "140\n",
      "Power plant priority1 produced 100 of energy\n",
      "Power plant priority4a produced 40 of energy\n",
      "Power plant priority4b produced 0 of energy\n",
      "tehdas1\n",
      "140\n",
      "Power plant priority1 produced 100 of energy\n",
      "Power plant priority4b produced 40 of energy\n",
      "Power plant priority4a produced 0 of energy\n",
      "tehdas1\n",
      "140\n",
      "Power plant priority1 produced 100 of energy\n",
      "Power plant priority4a produced 40 of energy\n",
      "Power plant priority4b produced 0 of energy\n",
      "tehdas1\n",
      "140\n",
      "Power plant priority1 produced 100 of energy\n",
      "Power plant priority4b produced 40 of energy\n",
      "Power plant priority4a produced 0 of energy\n",
      "tehdas1\n",
      "140\n",
      "Power plant priority1 produced 100 of energy\n",
      "Power plant priority4b produced 40 of energy\n",
      "Power plant priority4a produced 0 of energy\n",
      "tehdas1\n",
      "140\n",
      "Power plant priority1 produced 100 of energy\n",
      "Power plant priority4a produced 40 of energy\n",
      "Power plant priority4b produced 0 of energy\n"
     ]
    }
   ],
   "source": [
    "env.run(until=7)"
   ]
  },
  {
   "cell_type": "code",
   "execution_count": null,
   "id": "834e6be6-7e7f-4d74-9012-976a91c67ec2",
   "metadata": {},
   "outputs": [],
   "source": []
  }
 ],
 "metadata": {
  "kernelspec": {
   "display_name": "Python 3 (ipykernel)",
   "language": "python",
   "name": "python3"
  },
  "language_info": {
   "codemirror_mode": {
    "name": "ipython",
    "version": 3
   },
   "file_extension": ".py",
   "mimetype": "text/x-python",
   "name": "python",
   "nbconvert_exporter": "python",
   "pygments_lexer": "ipython3",
   "version": "3.10.4"
  }
 },
 "nbformat": 4,
 "nbformat_minor": 5
}
